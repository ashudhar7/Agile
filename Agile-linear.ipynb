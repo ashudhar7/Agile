{
 "cells": [
  {
   "cell_type": "code",
   "execution_count": 22,
   "metadata": {},
   "outputs": [],
   "source": [
    "def highwaylist():\n",
    "    alph,bet,gam,pro = [],[],[],[]\n",
    "    with open('alph.txt') as ip1, open('bet.txt') as ip2, open('gam.txt') as ip3, open('pro.txt') as ip4:\n",
    "        for i1,i2,i3,i4 in zip(ip1,ip2,ip3,ip4):\n",
    "            hw.append(NMTS(int(i1.strip()),int(i2.strip()),int(i3.strip()),float(i4.strip()))) \n"
   ]
  },
  {
   "cell_type": "code",
   "execution_count": 14,
   "metadata": {},
   "outputs": [],
   "source": [
    "import math\n",
    "def bias(alpha):\n",
    "    SBox= [[0,  0,  0,  0,  0,  0,  0,  0,  0,  0,  0,  0,  0,  0,  0,  0],  \n",
    "          [0,  0,  0,  0,  0,  1,  0,  1,  0,  0,  0,  0,  0,  1,  0,  1],  \n",
    "          [0,  0,  2,  2,  2,  2,  0,  0,  2,  2,  0,  1,  0,  1,  2,  2],  \n",
    "          [0,  0,  2,  2,  2,  2,  1,  0,  2,  2,  1,  0,  0,  0,  2,  2],  \n",
    "          [0,  0,  2,  2,  2,  2,  0,  1,  2,  2,  0,  1,  0,  0,  2,  2],  \n",
    "          [0,  0,  2,  2,  2,  2,  0,  0,  2,  2,  1,  0,  1,  0,  2,  2],  \n",
    "          [0,  0,  0,  1,  0,  0,  1,  0,  0,  1,  0,  0,  1,  0,  0,  0],  \n",
    "          [0,  0,  0,  1,  1,  0,  0,  0,  0,  1,  0,  0,  0,  0,  1,  0],  \n",
    "          [0,  0,  2,  2,  0,  0,  2,  2,  2,  2,  0,  0,  2,  2,  1,  1],  \n",
    "          [0,  1,  2,  2,  0,  0,  2,  2,  2,  2,  1,  0,  2,  2,  0,  0],  \n",
    "          [0,  0,  1,  0,  2,  2,  2,  2,  0,  0,  0,  1,  2,  2,  2,  2],  \n",
    "          [0,  1,  0,  0,  2,  2,  2,  2,  1,  0,  0,  0,  2,  2,  2,  2],  \n",
    "          [0,  0,  0,  0,  2,  2,  2,  2,  1,  0,  0,  1,  2,  2,  2,  2],  \n",
    "          [0,  1,  1,  0,  2,  2,  2,  2,  0,  0,  0,  0,  2,  2,  2,  2],  \n",
    "          [0,  0,  2,  2,  1,  1,  2,  2,  2,  2,  0,  0,  2,  2,  0,  0], \n",
    "          [0,  1,  2,  2,  0,  0,  2,  2,  2,  2,  1,  0,  2,  2,  0,  0]] \n",
    "    \n",
    "    \n",
    "    beta= (random.randint(0,15))\n",
    "    if(alpha==0):\n",
    "        return 0, 0\n",
    "    else:\n",
    "        while(SBox[alpha][beta]==0):\n",
    "            beta= (random.randint(1,15))\n",
    "            #print(SBox[alpha][beta])    \n",
    "        return SBox[alpha][beta], beta\n",
    "\n",
    "#print(\"A[0][0] =\", SBox[3][1])   # 3rd element of 3,nd row\n"
   ]
  },
  {
   "cell_type": "code",
   "execution_count": 15,
   "metadata": {},
   "outputs": [],
   "source": [
    "PBox = [12, 1, 6, 11, 8, 13, 2, 7, 4, 9, 14, 3, 0, 5, 10, 15]"
   ]
  },
  {
   "cell_type": "code",
   "execution_count": 16,
   "metadata": {},
   "outputs": [],
   "source": [
    "def sBoxLayer(state):\n",
    "        \"\"\"SBox function for encryption\n",
    "\n",
    "        Input:  16-bit integer\n",
    "        Output: 16-bit integer\"\"\"\n",
    "        sboxcount=0\n",
    "        prob=0\n",
    "        output = 0\n",
    "        #print('\\n')\n",
    "        for i in range(4):\n",
    "            inp= (state >> (i*4)) & 0xF\n",
    "            if(inp!=0):\n",
    "                sboxcount=sboxcount+1\n",
    "            p, op= bias(inp)\n",
    "            prob=prob+p\n",
    "            #print(p,prob)\n",
    "            output += op << (i*4)\n",
    "        return output,prob,sboxcount"
   ]
  },
  {
   "cell_type": "code",
   "execution_count": 17,
   "metadata": {},
   "outputs": [],
   "source": [
    "def pLayer(state):\n",
    "        \"\"\"Permutation layer for encryption\n",
    "\n",
    "        Input:  16-bit integer\n",
    "        Output: 16-bit integer\"\"\"\n",
    "        output = 0\n",
    "        for i in range(16):\n",
    "                output += ((state >> i) & 0x01) << PBox[i]\n",
    "        return output"
   ]
  },
  {
   "cell_type": "code",
   "execution_count": 18,
   "metadata": {},
   "outputs": [],
   "source": [
    "#right circular shifts\n",
    "def ROR(x,r):\n",
    "    x = ((x << (CIPHER_TYPE - r)) + (x >> r)) & mask\n",
    "    return x\n",
    "\n",
    "#left circular shifts\n",
    "def ROL(x,r):\n",
    "    x = ((x >> (CIPHER_TYPE - r)) + (x << r)) & mask\n",
    "    return x"
   ]
  },
  {
   "cell_type": "code",
   "execution_count": 19,
   "metadata": {},
   "outputs": [],
   "source": [
    "def find_diff_path(st1,st0,CIPHER_ROUNDS, n):\n",
    "            lp=1             \n",
    "            temp_wt=0\n",
    "            tempwt_list=[]\n",
    "            tempdec_list=[]\n",
    "            for i in range (0,CIPHER_ROUNDS):\n",
    "                op,prob,sbox=sBoxLayer(st0)\n",
    "                A=pLayer(op)\n",
    "                B=st1^A\n",
    "                #addition of random output decision in decision list, if output hold with some differential probability\n",
    "                tempdec_list.append(NMTS(st1,st0,op,prob,sbox)) \n",
    "                #print(tempdec_list[i].prob)\n",
    "                temp_wt= temp_wt+tempdec_list[i].prob\n",
    "                #update state with new valid output differential\n",
    "                st1=st0\n",
    "                st0=A\n",
    "            n=n+1\n",
    "            return tempdec_list, temp_wt, n"
   ]
  },
  {
   "cell_type": "code",
   "execution_count": 20,
   "metadata": {},
   "outputs": [],
   "source": [
    "def find_best_path(st1,st0,CIPHER_ROUNDS,wt_above,best_wt):\n",
    "    #print(hex(st1),hex(st0),'best_path')\n",
    "    #using n as index value for list\n",
    "    n=0\n",
    "    for r in range(CIPHER_ROUNDS,0,-1):\n",
    "        tempdec_list, temp_wt, n = find_diff_path(st1,st0,r, n)\n",
    "        if((temp_wt+wt_above) < best_wt):\n",
    "            best_wt= temp_wt+wt_above\n",
    "            for i,j in zip(range(n-1,25), range(len(tempdec_list))):\n",
    "                dec_list[i]=(NMTS(tempdec_list[j].da,tempdec_list[j].db,tempdec_list[j].op, tempdec_list[j].prob, tempdec_list[j].sbox))\n",
    "        #print(n)\n",
    "        if(n<CIPHER_ROUNDS):\n",
    "            st1=dec_list[n].da\n",
    "            st0=dec_list[n].db\n",
    "        wt_above= wt_above+dec_list[n-1].prob\n",
    "    return best_wt"
   ]
  },
  {
   "cell_type": "code",
   "execution_count": 24,
   "metadata": {},
   "outputs": [
    {
     "name": "stdout",
     "output_type": "stream",
     "text": [
      "54 1\n",
      "51 32769\n",
      "50 63233\n",
      "49 65089\n",
      "48 65089\n",
      "47 65089\n",
      "46 65089\n",
      "43 65089\n",
      "42 65089\n",
      "41 65089\n",
      "40 65089\n",
      "34 65089\n",
      "31 65089\n",
      "Dec list is: st1,st0,op,bias,sbox\n",
      "0x0 0x8000 0x6000 2 1\n",
      "0x8000 0x420 0x420 4 2\n",
      "0x420 0x6000 0xc000 1 1\n",
      "0x6000 0x8400 0xfb00 2 2\n",
      "0x8400 0x8639 0xdc6a 5 4\n",
      "0x8639 0xec0f 0x5409 5 3\n",
      "0xec0f 0x5c01 0xa505 4 3\n",
      "0x5c01 0xd070 0x1040 2 2\n",
      "0xd070 0x5 0x2 2 1\n",
      "0x5 0x2 0x4 2 1\n",
      "0x2 0x40 0x30 2 1\n",
      "Best weight is: 32\n"
     ]
    }
   ],
   "source": [
    "#alpha beta are for left and right circular shift  \n",
    "import random\n",
    "import math \n",
    "CIPHER_ROUNDS=11\n",
    "CIPHER_TYPE=16\n",
    "mask = 2 ** 16 - 1\n",
    "wshift=15\n",
    "dec_list=[0]*40\n",
    "wt_above=0\n",
    "best_wt=999999\n",
    "s=9999\n",
    "class NMTS(object):\n",
    "    \"\"\"__init__() functions as the class constructor\"\"\"\n",
    "    def __init__(self, da=None, db=None, op=None, prob=None, sbox=None):\n",
    "        self.da = da\n",
    "        self.db = db\n",
    "        self.op = op\n",
    "        self.prob = prob\n",
    "        self.sbox = sbox\n",
    "        \n",
    "hw=[]\n",
    "#nested loop to run number of time\n",
    "highwaylist()\n",
    "ch=0 \n",
    "while(best_wt>31):\n",
    "    ch=hw[ch].da\n",
    "    ch1=hw[ch].db\n",
    "    #ch=(random.randint(1,mask))\n",
    "    #ch1=(random.randint(1,mask))\n",
    "    #best_wt=find_best_path(0x10000, 0x400000, CIPHER_ROUNDS,wt_above,best_wt)\n",
    "    best_wt=find_best_path(ch,ch1,CIPHER_ROUNDS,wt_above,best_wt)\n",
    "    ch=ch+1\n",
    "    #print(ch)\n",
    "    if(best_wt<s):\n",
    "        s=best_wt\n",
    "        print(s,ch) \n",
    "\n",
    "#print(hex(st1),hex(st0),0)\n",
    "print(\"Dec list is: st1,st0,op,bias,sbox\")   \n",
    "for i in range(0,CIPHER_ROUNDS): \n",
    "    #print(\"Starting input of %i round and weight:\" %i,hex(dec_list[i].da), hex(dec_list[i].db),hex(dec_list[i].dc),hex(dec_list[i].dd),hex(dec_list[i].op1),hex(dec_list[i].op2),hex(dec_list[i].op3),(dec_list[i].wt1),(dec_list[i].wt2),(dec_list[i].wt3),(dec_list[i].wt))\n",
    "    print(hex(dec_list[i].da), hex(dec_list[i].db), hex(dec_list[i].op), (dec_list[i].prob),(dec_list[i].sbox))\n",
    "    #print(format(dec_list[i].da, '032b'))\n",
    "    #print(bin(dec_list[i].da))\n",
    "\n",
    "print(\"Best weight is:\",best_wt+1) "
   ]
  },
  {
   "cell_type": "code",
   "execution_count": null,
   "metadata": {},
   "outputs": [],
   "source": []
  }
 ],
 "metadata": {
  "kernelspec": {
   "display_name": "Python 3",
   "language": "python",
   "name": "python3"
  },
  "language_info": {
   "codemirror_mode": {
    "name": "ipython",
    "version": 3
   },
   "file_extension": ".py",
   "mimetype": "text/x-python",
   "name": "python",
   "nbconvert_exporter": "python",
   "pygments_lexer": "ipython3",
   "version": "3.7.6"
  }
 },
 "nbformat": 4,
 "nbformat_minor": 4
}
